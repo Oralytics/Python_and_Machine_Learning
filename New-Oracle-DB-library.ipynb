{
 "cells": [
  {
   "cell_type": "markdown",
   "metadata": {},
   "source": [
    "---\n",
    "### Demo of using Oracle Python Libraries to connect to local and OCI Database\n",
    "---"
   ]
  },
  {
   "cell_type": "markdown",
   "metadata": {},
   "source": [
    "##### Let's start with looking at using  cx_Oracle  library\n",
    "##### -As of June 2022 this has been replaced by a new library called  oracledb.  See below for examples of using it\n"
   ]
  },
  {
   "cell_type": "code",
   "execution_count": 1,
   "metadata": {},
   "outputs": [
    {
     "name": "stdout",
     "output_type": "stream",
     "text": [
      "<cx_Oracle.Connection to WHISKEY@student_high>\n"
     ]
    }
   ],
   "source": [
    "import cx_Oracle\n",
    "#from ora_login import my_Oracle_login\n",
    "#from ora_login import my_Oracle_login_docker\n",
    "from ora_login import my_Oracle_login_cloud\n",
    "\n",
    "#con = my_Oracle_login()\n",
    "#con = my_Oracle_login_docker()\n",
    "con = my_Oracle_login_cloud()\n",
    "\n",
    "print(con)\n",
    "cur = con.cursor()\n"
   ]
  },
  {
   "cell_type": "code",
   "execution_count": 2,
   "metadata": {},
   "outputs": [
    {
     "name": "stdout",
     "output_type": "stream",
     "text": [
      "Starting for loop\n",
      "('WHISKIES_DATASET',)\n",
      "('HOLIDAY',)\n",
      "('STAGE',)\n",
      "('DIRECTIONS',)\n"
     ]
    }
   ],
   "source": [
    "cur1 = con.cursor()\n",
    "# execute a query returning the results to the cursor\n",
    "cur1.execute('select table_name from user_tables')\n",
    "\n",
    "# for each row returned to the cursor, print the record\n",
    "print(\"Starting for loop\")\n",
    "for row in cur1:\n",
    "      print(row)"
   ]
  },
  {
   "cell_type": "code",
   "execution_count": 3,
   "metadata": {},
   "outputs": [
    {
     "name": "stdout",
     "output_type": "stream",
     "text": [
      "(1, 'Aberfeldy', 2, 2, 2, 0, 0, 2, 1, 2, 2, 2, 2, 2, 'PH152EB', 286580, 749680, 56.625191, -3.850199)\n",
      "(2, 'Aberlour', 3, 3, 1, 0, 0, 4, 3, 2, 2, 3, 3, 2, 'AB389PJ', 326340, 842570, 57.467395, -3.229644)\n",
      "(3, 'AnCnoc', 1, 3, 2, 0, 0, 2, 0, 0, 2, 2, 3, 2, 'AB55LI', 352960, 839320, 57.441751, -2.785295)\n",
      "(4, 'Ardbeg', 4, 1, 4, 4, 0, 0, 2, 0, 1, 2, 1, 0, 'PA427EB', 141560, 646220, 55.640607, -6.108503)\n",
      "(5, 'Ardmore', 2, 2, 2, 0, 0, 1, 1, 1, 2, 3, 1, 1, 'AB544NH', 355350, 829140, 57.350557, -2.743628)\n",
      "(6, 'ArranIsleOf', 2, 3, 1, 1, 0, 1, 1, 1, 0, 1, 1, 2, 'KA278HJ', 194050, 649950, 55.699145, -5.278895)\n",
      "(7, 'Auchentoshan', 0, 2, 0, 0, 0, 1, 1, 0, 2, 2, 3, 3, 'G814SJ', 247670, 672610, 55.922373, -4.439339)\n",
      "(8, 'Auchroisk', 2, 3, 1, 0, 0, 2, 1, 2, 2, 2, 2, 1, 'AB553XS', 340754, 848623, 57.523872, -2.990865)\n",
      "(9, 'Aultmore', 2, 2, 1, 0, 0, 1, 0, 0, 2, 2, 2, 2, 'AB553QY', 340754, 848623, 57.523872, -2.990865)\n",
      "(10, 'Balblair', 2, 3, 2, 1, 0, 0, 2, 0, 2, 1, 2, 1, 'IV191LB', 270820, 885770, 57.842735, -4.177749)\n",
      "(11, 'Balmenach', 4, 3, 2, 0, 0, 2, 1, 3, 3, 0, 1, 2, 'PH263PF', 307750, 827170, 57.325709, -3.533656)\n",
      "(12, 'Belvenie', 3, 2, 1, 0, 0, 3, 2, 1, 0, 2, 2, 2, 'AB554DH', 332680, 840840, 57.452844, -3.123497)\n",
      "(13, 'BenNevis', 4, 2, 2, 0, 0, 2, 2, 0, 2, 2, 2, 2, 'PH336TJ', 212600, 775710, 56.834952, -5.073418)\n",
      "(14, 'Benriach', 2, 2, 1, 0, 0, 2, 2, 0, 0, 2, 3, 2, 'IV308SJ', 323450, 858380, 57.608893, -3.282789)\n",
      "(15, 'Benrinnes', 3, 2, 2, 0, 0, 3, 1, 1, 2, 3, 2, 2, 'AB389NN', 325800, 839920, 57.443508, -3.237839)\n",
      "(16, 'Benromach', 2, 2, 2, 0, 0, 2, 2, 1, 2, 2, 2, 2, 'IV363EB', 303330, 859350, 57.613737, -3.619764)\n",
      "(17, 'Bladnoch', 1, 2, 1, 0, 0, 0, 1, 1, 0, 2, 2, 3, 'DG89AB', 242260, 554260, 54.858193, -4.458949)\n",
      "(18, 'BlairAthol', 2, 2, 2, 0, 0, 1, 2, 2, 2, 2, 2, 2, 'PH165LY', 294860, 757580, 56.698063, -3.718544)\n",
      "(19, 'Bowmore', 2, 2, 3, 1, 0, 2, 2, 1, 1, 1, 1, 2, 'PA437GS', 131330, 659720, 55.756024, -6.283806)\n",
      "(20, 'Bruichladdich', 1, 1, 2, 2, 0, 2, 2, 1, 2, 2, 2, 2, 'PA497UN', 126680, 661400, 55.768473, -6.359365)\n",
      "(21, 'Bunnahabhain', 1, 2, 1, 1, 0, 1, 1, 1, 1, 2, 2, 3, 'PA467RR', 142210, 673170, 55.882475, -6.123657)\n",
      "(22, 'CaolIla', 3, 1, 4, 2, 1, 0, 2, 0, 2, 1, 1, 1, 'PA467RL', 142920, 670040, 55.854804, -6.109369)\n",
      "(23, 'Cardhu', 1, 3, 1, 0, 0, 1, 1, 0, 2, 2, 2, 2, 'AB387RY', 318790, 843090, 57.470774, -3.355645)\n",
      "(24, 'Clynelish', 3, 2, 3, 3, 1, 0, 2, 0, 1, 1, 2, 0, 'KW96LB', 290250, 904230, 58.013647, -3.859208)\n",
      "(25, 'Craigallechie', 2, 2, 2, 0, 1, 2, 2, 1, 2, 2, 1, 4, 'AB389ST', 328920, 844920, 57.488911, -3.187328)\n",
      "(26, 'Craigganmore', 2, 3, 2, 1, 0, 0, 1, 0, 2, 2, 2, 2, 'AB379AB', 316600, 836370, 57.410031, -3.389855)\n",
      "(27, 'Dailuaine', 4, 2, 2, 0, 0, 1, 2, 2, 2, 2, 2, 1, 'AB387RE', 323520, 841010, 57.452918, -3.276155)\n",
      "(28, 'Dalmore', 3, 2, 2, 1, 0, 1, 2, 2, 1, 2, 3, 1, 'IV170UT', 266610, 868730, 57.688561, -4.23912)\n",
      "(29, 'Dalwhinnie', 2, 2, 2, 0, 0, 2, 1, 0, 1, 2, 2, 2, 'PH191AB', 263670, 785270, 56.938563, -4.242293)\n",
      "(30, 'Deanston', 2, 2, 1, 0, 0, 2, 1, 1, 1, 3, 2, 1, 'FK166AG', 271570, 701570, 56.189376, -4.071064)\n",
      "(31, 'Dufftown', 2, 3, 1, 1, 0, 0, 0, 0, 1, 2, 2, 2, 'AB554BR', 332360, 839200, 57.438068, -3.128374)\n",
      "(32, 'Edradour', 2, 3, 1, 0, 0, 2, 1, 1, 4, 2, 2, 2, 'PH165JP', 295960, 757940, 56.701543, -3.700736)\n",
      "(33, 'GlenDeveronMacduff', 2, 3, 1, 1, 1, 1, 1, 2, 0, 2, 0, 1, 'AB43JT', 372120, 860400, 57.632679, -2.468547)\n",
      "(34, 'GlenElgin', 2, 3, 1, 0, 0, 2, 1, 1, 1, 1, 2, 3, 'IV303SL', 322640, 861040, 57.632641, -3.297193)\n",
      "(35, 'GlenGarioch', 2, 1, 3, 0, 0, 0, 3, 1, 0, 2, 2, 2, 'AB510ES', 381020, 827590, 57.338432, -2.316943)\n",
      "(36, 'GlenGrant', 1, 2, 0, 0, 0, 1, 0, 1, 2, 1, 2, 1, 'AB387BS', 327610, 849570, 57.530463, -3.210557)\n",
      "(37, 'GlenKeith', 2, 3, 1, 0, 0, 1, 2, 1, 2, 1, 2, 1, 'AB553BU', 340754, 848623, 57.523872, -2.990865)\n",
      "(38, 'GlenMoray', 1, 2, 1, 0, 0, 1, 2, 1, 2, 2, 2, 4, 'IV301YE', 319820, 862320, 57.643642, -3.344829)\n",
      "(39, 'GlenOrd', 3, 2, 1, 0, 0, 1, 2, 1, 1, 2, 2, 2, 'IV67UJ', 251810, 850860, 57.523564, -4.476185)\n",
      "(40, 'GlenScotia', 2, 2, 2, 2, 0, 1, 0, 1, 2, 2, 1, 1, 'PA286DS', 172090, 621010, 55.42981, -5.603737)\n",
      "(41, 'GlenSpey', 1, 3, 1, 0, 0, 0, 1, 1, 1, 2, 0, 2, 'AB387AU', 327760, 849140, 57.526625, -3.207925)\n",
      "(42, 'Glenallachie', 1, 3, 1, 0, 0, 1, 1, 0, 1, 2, 2, 2, 'AB389LR', 326490, 841240, 57.455475, -3.226744)\n",
      "(43, 'Glendronach', 4, 2, 2, 0, 0, 2, 1, 4, 2, 2, 2, 0, 'AB546DA', 361200, 844930, 57.49292, -2.648927)\n",
      "(44, 'Glendullan', 3, 2, 1, 0, 0, 2, 1, 2, 1, 2, 3, 2, 'AB554DJ', 333000, 840300, 57.448042, -3.118017)\n",
      "(45, 'Glenfarclas', 2, 4, 1, 0, 0, 1, 2, 3, 2, 3, 2, 2, 'AB379BD', 320950, 838160, 57.426884, -3.318049)\n",
      "(46, 'Glenfiddich', 1, 3, 1, 0, 0, 0, 0, 0, 0, 2, 2, 2, 'AB554DH', 332680, 840840, 57.452844, -3.123497)\n",
      "(47, 'Glengoyne', 1, 2, 0, 0, 0, 1, 1, 1, 2, 2, 3, 2, 'G639LB', 252810, 682750, 56.015002, -4.362706)\n",
      "(48, 'Glenkinchie', 1, 2, 1, 0, 0, 1, 2, 0, 0, 2, 2, 2, 'EH345ET', 344380, 666690, 55.890117, -2.890845)\n",
      "(49, 'Glenlivet', 2, 3, 1, 0, 0, 2, 2, 2, 1, 2, 2, 3, 'AB379DB', 319560, 828780, 57.342405, -3.338116)\n",
      "(50, 'Glenlossie', 1, 2, 1, 0, 0, 1, 2, 0, 1, 2, 2, 2, 'IV303SS', 322640, 861040, 57.632641, -3.297193)\n",
      "(51, 'Glenmorangie', 2, 2, 1, 1, 0, 1, 2, 0, 2, 1, 2, 2, 'IV191PZ', 276750, 883450, 57.823585, -4.076735)\n",
      "(52, 'Glenrothes', 2, 3, 1, 0, 0, 1, 1, 2, 1, 2, 2, 0, 'AB387AA', 327650, 849170, 57.526877, -3.20977)\n",
      "(53, 'Glenturret', 2, 3, 1, 0, 0, 2, 2, 2, 2, 2, 1, 2, 'PH74HA', 285630, 723580, 56.390603, -3.854194)\n",
      "(54, 'HighlandPark', 2, 2, 3, 1, 0, 2, 1, 1, 1, 2, 1, 1, 'KW151SU', 345340, 1009260, 58.966865, -2.9524375)\n",
      "(55, 'Inchgower', 1, 3, 1, 1, 0, 2, 2, 0, 1, 2, 1, 2, 'AB565AB', 342610, 863970, 57.661944, -2.96352)\n",
      "(56, 'IsleofJura', 2, 1, 2, 2, 0, 1, 1, 0, 2, 1, 1, 1, 'PA607XT', 152660, 667040, 55.833006, -5.951428)\n",
      "(57, 'Knochando', 2, 3, 1, 0, 0, 2, 2, 1, 2, 1, 2, 2, 'AB387RT', 319470, 841570, 57.457246, -3.34381)\n",
      "(58, 'Lagavulin', 4, 1, 4, 4, 1, 0, 1, 2, 1, 1, 1, 0, 'PA427DZ', 140430, 645730, 55.635614, -6.125946)\n",
      "(59, 'Laphroig', 4, 2, 4, 4, 1, 0, 0, 1, 1, 1, 0, 0, 'PA427DU', 138680, 645160, 55.629569, -6.153129)\n",
      "(60, 'Linkwood', 2, 3, 1, 0, 0, 1, 1, 2, 0, 1, 3, 2, 'IV303RD', 322640, 861040, 57.632641, -3.297193)\n",
      "(61, 'LochLomond', 1, 1, 1, 1, 0, 1, 1, 0, 1, 2, 1, 2, 'G830TL', 239370, 680920, 55.99426, -4.576973)\n",
      "(62, 'Longmorn', 3, 2, 1, 0, 0, 1, 1, 1, 3, 3, 2, 3, 'IV303SJ', 322640, 861040, 57.632641, -3.297193)\n",
      "(63, 'Macallan', 4, 3, 1, 0, 0, 2, 1, 4, 2, 2, 3, 1, 'AB389RX', 327710, 844480, 57.484768, -3.207376)\n",
      "(64, 'Mannochmore', 2, 1, 1, 0, 0, 1, 1, 1, 2, 1, 2, 2, 'IV303SS', 322640, 861040, 57.632641, -3.297193)\n",
      "(65, 'Miltonduff', 2, 4, 1, 0, 0, 1, 0, 0, 2, 1, 1, 2, 'IV303TQ', 322640, 861040, 57.632641, -3.297193)\n",
      "(66, 'Mortlach', 3, 2, 2, 0, 0, 2, 3, 3, 2, 1, 2, 2, 'AB554AQ', 332950, 839850, 57.443993, -3.118727)\n",
      "(67, 'Oban', 2, 2, 2, 2, 0, 0, 2, 0, 2, 2, 2, 0, 'PA345NH', 185940, 730190, 56.415259, -5.471833)\n",
      "(68, 'OldFettercairn', 1, 2, 2, 0, 1, 2, 2, 1, 2, 3, 1, 1, 'AB301YE', 370860, 772900, 56.846626, -2.479332)\n",
      "(69, 'OldPulteney', 2, 1, 2, 2, 1, 0, 1, 1, 2, 2, 2, 2, 'KW15BA', 336730, 950130, 58.434884, -3.085261)\n",
      "(70, 'RoyalBrackla', 2, 3, 2, 1, 1, 1, 2, 1, 0, 2, 3, 2, 'IV125QY', 286040, 851320, 57.53761, -3.90523)\n",
      "(71, 'RoyalLochnagar', 3, 2, 2, 0, 0, 2, 2, 2, 2, 2, 3, 1, 'AB355TB', 326140, 794370, 57.034488, -3.218602)\n",
      "(72, 'Scapa', 2, 2, 1, 1, 0, 2, 1, 1, 2, 2, 2, 2, 'KW151SE', 342850, 1008930, 58.5747, -2.59594)\n",
      "(73, 'Speyburn', 2, 4, 1, 0, 0, 2, 1, 0, 0, 2, 1, 2, 'AB387AG', 326930, 851430, 57.547057, -3.222469)\n",
      "(74, 'Speyside', 2, 2, 1, 0, 0, 1, 0, 1, 2, 2, 2, 2, 'PH211NS', 278740, 800600, 57.080387, -4.002174)\n",
      "(75, 'Springbank', 2, 2, 2, 2, 0, 2, 2, 1, 2, 1, 0, 1, 'PA286EJ', 172280, 620910, 55.429001, -5.600659)\n",
      "(76, 'Strathisla', 2, 2, 1, 0, 0, 2, 2, 2, 3, 3, 3, 2, 'AB553BS', 340754, 848623, 57.523872, -2.990865)\n",
      "(77, 'Strathmill', 2, 3, 1, 0, 0, 0, 2, 0, 2, 1, 3, 2, 'AB555DQ', 342650, 850500, 57.540974, -2.959656)\n",
      "(78, 'Talisker', 4, 2, 3, 3, 0, 1, 3, 0, 1, 2, 2, 0, 'IV478SR', 137950, 831770, 57.301051, -6.352166)\n",
      "(79, 'Tamdhu', 1, 2, 1, 0, 0, 2, 0, 1, 1, 2, 2, 2, 'AB387RP', 319210, 841760, 57.458906, -3.348205)\n",
      "(80, 'Tamnavulin', 1, 3, 2, 0, 0, 0, 2, 0, 2, 1, 2, 3, 'AB379JA', 321180, 826110, 57.318711, -3.310355)\n",
      "(81, 'Teaninich', 2, 2, 2, 1, 0, 0, 2, 0, 0, 0, 2, 2, 'IV170XB', 265360, 869120, 57.691688, -4.2605172)\n",
      "(82, 'Tobermory', 1, 1, 1, 0, 0, 1, 0, 0, 1, 2, 2, 2, 'PA756NR', 150450, 755070, 56.620806, -6.06953)\n",
      "(83, 'Tomatin', 2, 3, 2, 0, 0, 2, 2, 1, 1, 2, 0, 1, 'IV137YT', 279120, 829630, 57.341101, -4.010031)\n",
      "(84, 'Tomintoul', 0, 3, 1, 0, 0, 2, 2, 1, 1, 2, 1, 2, 'AB379AQ', 315100, 825560, 57.31268, -3.411083)\n",
      "(85, 'Tormore', 2, 2, 1, 0, 0, 1, 0, 1, 2, 1, 0, 0, 'PH263LR', 315180, 834960, 57.397107, -3.412996)\n",
      "(86, 'Tullibardine', 2, 3, 0, 0, 1, 0, 2, 1, 1, 2, 2, 1, 'PH41QG', 289690, 708850, 56.259296, -3.782289)\n"
     ]
    }
   ],
   "source": [
    "cur2=con.cursor()\n",
    "cur2.execute('select * from whiskies_dataset')\n",
    "for row in cur2:\n",
    "    print(row)"
   ]
  },
  {
   "cell_type": "code",
   "execution_count": 4,
   "metadata": {},
   "outputs": [],
   "source": [
    "cur1.close()\n",
    "cur2.close()\n",
    "con.close()"
   ]
  },
  {
   "cell_type": "code",
   "execution_count": 5,
   "metadata": {},
   "outputs": [],
   "source": [
    "#Let's now test cx_Oracle with a local DB on docker\n",
    "p_username = \"whiskey\"\n",
    "p_password = \"WHISKEY\"\n",
    "p_host = \"localhost\"\n",
    "p_service = \"XEPDB1\"\n",
    "p_port = \"1521\"\n",
    "    \n",
    "con2 = cx_Oracle.connect(user=p_username, password=p_password, dsn=\"localhost/XEPDB1:1521\")"
   ]
  },
  {
   "cell_type": "code",
   "execution_count": 6,
   "metadata": {},
   "outputs": [
    {
     "name": "stdout",
     "output_type": "stream",
     "text": [
      "Starting for loop\n",
      "('WHISKIES_DATASET',)\n",
      "('HOLIDAY',)\n",
      "('STAGE',)\n",
      "('DIRECTIONS',)\n"
     ]
    }
   ],
   "source": [
    "cur3 = con2.cursor()\n",
    "# execute a query returning the results to the cursor\n",
    "cur3.execute('select table_name from user_tables')\n",
    "\n",
    "# for each row returned to the cursor, print the record\n",
    "print(\"Starting for loop\")\n",
    "for row in cur3:\n",
    "      print(row)\n",
    "        \n",
    "cur3.close()\n",
    "con2.close()"
   ]
  },
  {
   "cell_type": "markdown",
   "metadata": {},
   "source": [
    "---\n",
    "### Now test using new library  oracledb\n",
    "---"
   ]
  },
  {
   "cell_type": "code",
   "execution_count": 2,
   "metadata": {},
   "outputs": [],
   "source": [
    "import oracledb"
   ]
  },
  {
   "cell_type": "code",
   "execution_count": 9,
   "metadata": {},
   "outputs": [
    {
     "name": "stdout",
     "output_type": "stream",
     "text": [
      "Do we have a good connection : True\n",
      "Are we using a Thin connection : True\n",
      "Database Version : 21.3.0.0.0\n"
     ]
    }
   ],
   "source": [
    "p_username = \"whiskey\"\n",
    "p_password = \"WHISKEY\"\n",
    "p_host = \"localhost\"\n",
    "p_service = \"XEPDB1\"\n",
    "p_dns = \"localhost/XEPDB1\"\n",
    "p_port = \"1521\"\n",
    "\n",
    "con = oracledb.connect(user=p_username, password=p_password, dsn=p_dns, port=p_port)\n",
    "print('Do we have a good connection :', con.is_healthy())\n",
    "print('Are we using a Thin connection :', con.thin)\n",
    "print('Database Version :', con.version)"
   ]
  },
  {
   "cell_type": "code",
   "execution_count": 10,
   "metadata": {},
   "outputs": [
    {
     "name": "stdout",
     "output_type": "stream",
     "text": [
      "('WHISKIES_DATASET',)\n",
      "('HOLIDAY',)\n",
      "('STAGE',)\n",
      "('DIRECTIONS',)\n"
     ]
    }
   ],
   "source": [
    "cur = con.cursor()\n",
    "cur.execute('select table_name from user_tables')\n",
    "for row in cur:\n",
    "      print(row)\n",
    "        "
   ]
  },
  {
   "cell_type": "code",
   "execution_count": 11,
   "metadata": {},
   "outputs": [],
   "source": [
    "cur.close()\n",
    "con.close()"
   ]
  },
  {
   "cell_type": "code",
   "execution_count": 12,
   "metadata": {},
   "outputs": [
    {
     "name": "stdout",
     "output_type": "stream",
     "text": [
      "('WHISKIES_DATASET',)\n",
      "('HOLIDAY',)\n",
      "('STAGE',)\n",
      "('DIRECTIONS',)\n",
      "Is the Connection open? True\n",
      "What about the Cursor? <oracledb.Connection disconnected>\n"
     ]
    }
   ],
   "source": [
    "#Alternative code with implicit closing of Cursor, after we are finished processing the data\n",
    "import oracledb\n",
    "\n",
    "con = oracledb.connect(user=p_username, password=p_password, dsn=p_dns, port=p_port)\n",
    "with con.cursor() as cursor:\n",
    "  for row in cursor.execute('select table_name from user_tables'):\n",
    "      print(row)\n",
    "        \n",
    "print('Is the Connection open?', con.is_healthy())\n",
    "print('What about the Cursor?', cur.connection)\n",
    "\n",
    "con.close()"
   ]
  },
  {
   "cell_type": "markdown",
   "metadata": {},
   "source": [
    "---\n",
    "### Connect to ADW using new oracledb\n",
    "---"
   ]
  },
  {
   "cell_type": "code",
   "execution_count": 13,
   "metadata": {},
   "outputs": [
    {
     "name": "stdout",
     "output_type": "stream",
     "text": [
      "<oracledb.Connection to whiskey@student_high>\n",
      "('WHISKIES_DATASET',)\n",
      "('HOLIDAY',)\n",
      "('STAGE',)\n",
      "('DIRECTIONS',)\n",
      "Are we using a Thin connection : True\n"
     ]
    }
   ],
   "source": [
    "#Connection using Mutual TLS (mTLS) - Download Wallet file containing pem file\n",
    "#Point the connection to the location of these Wallet files\n",
    "import oracledb\n",
    "\n",
    "p_username = \"whiskey\"\n",
    "p_password = \"22Highfield-_\"\n",
    "\n",
    "p_walletpass = '26Highfield-_'\n",
    "\n",
    "con = oracledb.connect(user=p_username, password=p_password, dsn=\"student_high\", \n",
    "                       config_dir=\"/Users/brendan.tierney/Dropbox/5-Database-Wallets/Wallet_student-Full\",\n",
    "                       wallet_location=\"/Users/brendan.tierney/Dropbox/5-Database-Wallets/Wallet_student-Full\",\n",
    "                       wallet_password=p_walletpass)\n",
    "print(con)\n",
    "\n",
    "with con.cursor() as cursor:\n",
    "  for row in cursor.execute('select table_name from user_tables'):\n",
    "      print(row)\n",
    "\n",
    "print('Are we using a Thin connection :', con.thin)\n",
    "con.close()"
   ]
  },
  {
   "cell_type": "code",
   "execution_count": 2,
   "metadata": {},
   "outputs": [
    {
     "name": "stdout",
     "output_type": "stream",
     "text": [
      "<oracledb.Connection to whiskey@student_high>\n",
      "('WHISKIES_DATASET',)\n",
      "('HOLIDAY',)\n",
      "('STAGE',)\n",
      "('DIRECTIONS',)\n",
      "Are we using a Thin connection : False\n"
     ]
    }
   ],
   "source": [
    "#Thick connection using oracle client\n",
    "#Warning: Once you enable Thick client, all connections in App will try to use Thick Client.\n",
    "#         Only use Thick client when required in an App.  All other code/Apps should remove all references to it.\n",
    "import oracledb\n",
    "\n",
    "p_username = \"whiskey\"\n",
    "p_password = \"22Highfield-_\"\n",
    "\n",
    "oracledb.init_oracle_client(config_dir=\"/Applications/instantclient_19_8/network/admin\")\n",
    "\n",
    "con = oracledb.connect(user=p_username, password=p_password, dsn=\"student_high\")\n",
    "print(con)\n",
    "\n",
    "with con.cursor() as cursor:\n",
    "  for row in cursor.execute('select table_name from user_tables'):\n",
    "      print(row)\n",
    "\n",
    "print('Are we using a Thin connection :', con.thin)\n",
    "con.close()"
   ]
  },
  {
   "cell_type": "code",
   "execution_count": null,
   "metadata": {},
   "outputs": [],
   "source": []
  },
  {
   "cell_type": "code",
   "execution_count": null,
   "metadata": {},
   "outputs": [],
   "source": []
  }
 ],
 "metadata": {
  "kernelspec": {
   "display_name": "Python 3",
   "language": "python",
   "name": "python3"
  },
  "language_info": {
   "codemirror_mode": {
    "name": "ipython",
    "version": 3
   },
   "file_extension": ".py",
   "mimetype": "text/x-python",
   "name": "python",
   "nbconvert_exporter": "python",
   "pygments_lexer": "ipython3",
   "version": "3.7.3"
  }
 },
 "nbformat": 4,
 "nbformat_minor": 4
}
